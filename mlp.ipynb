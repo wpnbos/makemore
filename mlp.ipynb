{
 "cells": [
  {
   "cell_type": "code",
   "execution_count": 1,
   "metadata": {},
   "outputs": [
    {
     "name": "stderr",
     "output_type": "stream",
     "text": [
      "/Users/william/Documents/src/makemore/venv/lib/python3.10/site-packages/tqdm/auto.py:22: TqdmWarning: IProgress not found. Please update jupyter and ipywidgets. See https://ipywidgets.readthedocs.io/en/stable/user_install.html\n",
      "  from .autonotebook import tqdm as notebook_tqdm\n"
     ]
    }
   ],
   "source": [
    "from pathlib import Path\n",
    "\n",
    "import torch\n",
    "import torch.nn.functional as F"
   ]
  },
  {
   "cell_type": "code",
   "execution_count": 63,
   "metadata": {},
   "outputs": [],
   "source": [
    "# Create dataset\n",
    "\n",
    "words = Path.cwd().joinpath(\"names.txt\").read_text().splitlines()\n",
    "end_tok = \".\"\n",
    "chars = [end_tok] + sorted(list(set(\"\".join(words))))\n",
    "char_to_index = {char: index for index, char in enumerate(chars)}\n",
    "n_chars = len(chars)\n",
    "\n",
    "block_size = 3\n",
    "X, Y = [], []\n",
    "for w in words:\n",
    "    context = [0] * block_size\n",
    "    for ch in w + end_tok:\n",
    "        ix = char_to_index[ch]\n",
    "        X.append(context)\n",
    "        Y.append(ix)\n",
    "        # print(''.join(chars[i] for i in context), \"->\", ch)\n",
    "        context = context[1:] + [ix]\n",
    "\n",
    "X = torch.tensor(X)\n",
    "Y = torch.tensor(Y)\n",
    "num = X.nelement()"
   ]
  },
  {
   "cell_type": "code",
   "execution_count": 160,
   "metadata": {},
   "outputs": [],
   "source": [
    "n_embeddings_dims = 2\n",
    "\n",
    "C = torch.randn(27, n_embeddings_dims)\n",
    "layer1_size = 100\n",
    "W1 = torch.randn((n_embeddings_dims * block_size, layer1_size))\n",
    "b1 = torch.randn(layer1_size)\n",
    "layer2_size = 27\n",
    "W2 = torch.randn((layer1_size, layer2_size))\n",
    "b2 = torch.randn(layer2_size)\n",
    "parameters = [C, W1, b1, W2, b2]\n",
    "for p in parameters:\n",
    "    p.requires_grad = True"
   ]
  },
  {
   "cell_type": "code",
   "execution_count": 161,
   "metadata": {},
   "outputs": [],
   "source": [
    "steps = 10000\n",
    "lre = torch.linspace(-3, 0, steps)\n",
    "lrs = 10**lre"
   ]
  },
  {
   "cell_type": "code",
   "execution_count": null,
   "metadata": {},
   "outputs": [],
   "source": [
    "batch_size = 128\n",
    "lri = []\n",
    "lossi = []\n",
    "\n",
    "for i in range(steps):\n",
    "    # Get minibatch\n",
    "    ix = torch.randint(0, X.shape[0], (batch_size,))\n",
    "\n",
    "    # Forward pass\n",
    "    emb = C[X[ix]]\n",
    "    h = torch.tanh(emb.view(-1, n_embeddings_dims * block_size) @ W1 + b1)\n",
    "    logits = h @ W2 + b2\n",
    "    loss = F.cross_entropy(logits, Y[ix])\n",
    "    print(loss.item())\n",
    "\n",
    "    # Backward pass\n",
    "    for p in parameters:\n",
    "        p.grad = None\n",
    "    loss.backward()\n",
    "\n",
    "    lr = .01\n",
    "    for p in parameters:\n",
    "        p.data += -1 * p.grad\n",
    "\n",
    "    # lri.append(lre[i])\n",
    "    # lossi.append(loss.item())"
   ]
  },
  {
   "cell_type": "code",
   "execution_count": 179,
   "metadata": {},
   "outputs": [
    {
     "data": {
      "text/plain": [
       "2.346143960952759"
      ]
     },
     "execution_count": 179,
     "metadata": {},
     "output_type": "execute_result"
    }
   ],
   "source": [
    "# Eval\n",
    "emb = C[X]\n",
    "h = torch.tanh(emb.view(-1, n_embeddings_dims * block_size) @ W1 + b1)\n",
    "logits = h @ W2 + b2\n",
    "loss = F.cross_entropy(logits, Y)\n",
    "loss.item()"
   ]
  }
 ],
 "metadata": {
  "kernelspec": {
   "display_name": "venv",
   "language": "python",
   "name": "python3"
  },
  "language_info": {
   "codemirror_mode": {
    "name": "ipython",
    "version": 3
   },
   "file_extension": ".py",
   "mimetype": "text/x-python",
   "name": "python",
   "nbconvert_exporter": "python",
   "pygments_lexer": "ipython3",
   "version": "3.10.8"
  },
  "orig_nbformat": 4,
  "vscode": {
   "interpreter": {
    "hash": "2e1455a3241fae3f62987eed03e04ed390242cda73e021d3dc843703d0ffbd51"
   }
  }
 },
 "nbformat": 4,
 "nbformat_minor": 2
}
