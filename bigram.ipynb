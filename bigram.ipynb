{
 "cells": [
  {
   "cell_type": "code",
   "execution_count": 1,
   "metadata": {},
   "outputs": [
    {
     "name": "stderr",
     "output_type": "stream",
     "text": [
      "/Users/william/Documents/src/makemore/venv/lib/python3.10/site-packages/tqdm/auto.py:22: TqdmWarning: IProgress not found. Please update jupyter and ipywidgets. See https://ipywidgets.readthedocs.io/en/stable/user_install.html\n",
      "  from .autonotebook import tqdm as notebook_tqdm\n"
     ]
    }
   ],
   "source": [
    "from pathlib import Path\n",
    "\n",
    "import torch\n",
    "import torch.nn.functional as F"
   ]
  },
  {
   "cell_type": "code",
   "execution_count": 2,
   "metadata": {},
   "outputs": [],
   "source": [
    "# Create dataset\n",
    "\n",
    "words = Path.cwd().joinpath(\"names.txt\").read_text().splitlines()\n",
    "end_tok = \".\"\n",
    "chars = [end_tok] + sorted(list(set(\"\".join(words))))\n",
    "char_to_index = {char: index for index, char in enumerate(chars)}\n",
    "n_chars = len(chars)\n",
    "\n",
    "xs, ys = [], []\n",
    "for w in words:\n",
    "    word_chars = [end_tok] + list(w) + [end_tok]\n",
    "    for ch1, ch2 in zip(word_chars, word_chars[1:]):\n",
    "        ix1 = char_to_index[ch1]\n",
    "        ix2 = char_to_index[ch2]\n",
    "        xs.append(ix1)\n",
    "        ys.append(ix2)\n",
    "\n",
    "\n",
    "xs = torch.tensor(xs)\n",
    "ys = torch.tensor(ys)\n",
    "num = xs.nelement()\n",
    "W = torch.randn((n_chars, n_chars), requires_grad=True)"
   ]
  },
  {
   "cell_type": "code",
   "execution_count": 3,
   "metadata": {},
   "outputs": [
    {
     "name": "stdout",
     "output_type": "stream",
     "text": [
      "3.690117835998535\n",
      "3.285710096359253\n",
      "3.088467836380005\n",
      "2.962078809738159\n",
      "2.874926805496216\n",
      "2.8120381832122803\n",
      "2.7649848461151123\n",
      "2.7286720275878906\n",
      "2.699885606765747\n",
      "2.676551580429077\n",
      "2.657283067703247\n",
      "2.6411068439483643\n",
      "2.6273181438446045\n",
      "2.615401268005371\n",
      "2.6049752235412598\n",
      "2.5957610607147217\n",
      "2.5875484943389893\n",
      "2.5801777839660645\n",
      "2.5735247135162354\n",
      "2.5674893856048584\n",
      "2.561990976333618\n",
      "2.55696177482605\n",
      "2.5523464679718018\n",
      "2.5480964183807373\n",
      "2.5441715717315674\n",
      "2.540537118911743\n",
      "2.5371620655059814\n",
      "2.5340216159820557\n",
      "2.5310921669006348\n",
      "2.5283539295196533\n",
      "2.525789737701416\n",
      "2.523383617401123\n",
      "2.521122455596924\n",
      "2.518993616104126\n",
      "2.5169858932495117\n",
      "2.515089511871338\n",
      "2.5132956504821777\n",
      "2.5115966796875\n",
      "2.5099852085113525\n",
      "2.5084540843963623\n",
      "2.50699782371521\n",
      "2.505610704421997\n",
      "2.5042884349823\n",
      "2.503026008605957\n",
      "2.5018198490142822\n",
      "2.5006656646728516\n",
      "2.499561071395874\n",
      "2.498502254486084\n",
      "2.4974865913391113\n",
      "2.496511459350586\n",
      "2.495574712753296\n",
      "2.494673728942871\n",
      "2.493806838989258\n",
      "2.4929723739624023\n",
      "2.4921681880950928\n",
      "2.4913926124572754\n",
      "2.490644693374634\n",
      "2.489922523498535\n",
      "2.489225387573242\n",
      "2.488551378250122\n",
      "2.4879000186920166\n",
      "2.487269878387451\n",
      "2.4866602420806885\n",
      "2.486069679260254\n",
      "2.4854979515075684\n",
      "2.4849438667297363\n",
      "2.4844067096710205\n",
      "2.483886241912842\n",
      "2.4833807945251465\n",
      "2.4828906059265137\n",
      "2.482414484024048\n",
      "2.481952667236328\n",
      "2.481503963470459\n",
      "2.481067419052124\n",
      "2.4806437492370605\n",
      "2.480231523513794\n",
      "2.4798309803009033\n",
      "2.4794411659240723\n",
      "2.4790618419647217\n",
      "2.4786922931671143\n",
      "2.478332996368408\n",
      "2.477983236312866\n",
      "2.477642297744751\n",
      "2.4773106575012207\n",
      "2.47698712348938\n",
      "2.4766714572906494\n",
      "2.4763641357421875\n",
      "2.476064443588257\n",
      "2.475771903991699\n",
      "2.475486993789673\n",
      "2.475208282470703\n",
      "2.4749367237091064\n",
      "2.4746718406677246\n",
      "2.474412679672241\n",
      "2.4741604328155518\n",
      "2.4739134311676025\n",
      "2.4736719131469727\n",
      "2.4734363555908203\n",
      "2.4732062816619873\n",
      "2.4729812145233154\n"
     ]
    }
   ],
   "source": [
    "# Training\n",
    "\n",
    "for _ in range(100):\n",
    "    # Forward pass\n",
    "    xenc = F.one_hot(xs, num_classes=n_chars).float()\n",
    "    logits = xenc @ W\n",
    "    counts = logits.exp()\n",
    "    probs = counts / counts.sum(dim=1, keepdim=True)\n",
    "    loss = -probs[torch.arange(num), ys].log().mean()\n",
    "    print(loss.item())\n",
    "\n",
    "    # Backward pass\n",
    "    W.grad = None\n",
    "    loss.backward()\n",
    "    W.data += -50 * W.grad"
   ]
  },
  {
   "cell_type": "code",
   "execution_count": 273,
   "metadata": {},
   "outputs": [
    {
     "name": "stdout",
     "output_type": "stream",
     "text": [
      "brysein\n",
      "zlamalartletona\n",
      "khayaynana\n",
      "jt\n",
      "qun\n",
      "ebran\n",
      "ashrizrtaenahgu\n",
      "ja\n",
      "jaso\n",
      "vcezinidha\n"
     ]
    }
   ],
   "source": [
    "# Sample from model\n",
    "\n",
    "for _ in range(10):\n",
    "    out = []\n",
    "    ix = 0\n",
    "    while True:\n",
    "        xenc = F.one_hot(torch.tensor([ix]), num_classes=n_chars).float()\n",
    "        logits = xenc @ W\n",
    "        counts = logits.exp()\n",
    "        probs = counts / counts.sum(dim=1, keepdim=True)\n",
    "        ix = torch.multinomial(input=probs, num_samples=1, replacement=True)\n",
    "        char = chars[ix.item()]\n",
    "        if char == end_tok:\n",
    "            break\n",
    "        out.append(char)\n",
    "    print(\"\".join(out))"
   ]
  },
  {
   "cell_type": "code",
   "execution_count": null,
   "metadata": {},
   "outputs": [],
   "source": []
  }
 ],
 "metadata": {
  "kernelspec": {
   "display_name": "venv",
   "language": "python",
   "name": "python3"
  },
  "language_info": {
   "codemirror_mode": {
    "name": "ipython",
    "version": 3
   },
   "file_extension": ".py",
   "mimetype": "text/x-python",
   "name": "python",
   "nbconvert_exporter": "python",
   "pygments_lexer": "ipython3",
   "version": "3.10.8"
  },
  "orig_nbformat": 4,
  "vscode": {
   "interpreter": {
    "hash": "2e1455a3241fae3f62987eed03e04ed390242cda73e021d3dc843703d0ffbd51"
   }
  }
 },
 "nbformat": 4,
 "nbformat_minor": 2
}
